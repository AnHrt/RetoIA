{
 "cells": [
  {
   "cell_type": "code",
   "execution_count": 1,
   "id": "00a7bb13",
   "metadata": {},
   "outputs": [],
   "source": [
    "import pandas as pd\n",
    "import numpy as np\n",
    "from sklearn.model_selection import KFold"
   ]
  },
  {
   "cell_type": "code",
   "execution_count": 2,
   "id": "771d3ffe",
   "metadata": {},
   "outputs": [],
   "source": [
    "data = pd.read_csv('dataset/20210101_RM.csv')"
   ]
  },
  {
   "cell_type": "code",
   "execution_count": 3,
   "id": "20b69187",
   "metadata": {},
   "outputs": [
    {
     "data": {
      "text/html": [
       "<div>\n",
       "<style scoped>\n",
       "    .dataframe tbody tr th:only-of-type {\n",
       "        vertical-align: middle;\n",
       "    }\n",
       "\n",
       "    .dataframe tbody tr th {\n",
       "        vertical-align: top;\n",
       "    }\n",
       "\n",
       "    .dataframe thead th {\n",
       "        text-align: right;\n",
       "    }\n",
       "</style>\n",
       "<table border=\"1\" class=\"dataframe\">\n",
       "  <thead>\n",
       "    <tr style=\"text-align: right;\">\n",
       "      <th></th>\n",
       "      <th>PHONE_ID</th>\n",
       "      <th>timestamp</th>\n",
       "      <th>bts_id</th>\n",
       "      <th>lat</th>\n",
       "      <th>lon</th>\n",
       "    </tr>\n",
       "  </thead>\n",
       "  <tbody>\n",
       "    <tr>\n",
       "      <th>0</th>\n",
       "      <td>668f7c17a62c937a75f762c7198a7fc98ed4e0e0c64ce0...</td>\n",
       "      <td>2021-01-01T17:22:55.000-03:00</td>\n",
       "      <td>CEMG1</td>\n",
       "      <td>-33.3913</td>\n",
       "      <td>-70.6222</td>\n",
       "    </tr>\n",
       "    <tr>\n",
       "      <th>1</th>\n",
       "      <td>780fc36e9a2bc99de12adb740e5e82b3cabba75c1ecd23...</td>\n",
       "      <td>2021-01-01T17:10:19.000-03:00</td>\n",
       "      <td>CEMG1</td>\n",
       "      <td>-33.3913</td>\n",
       "      <td>-70.6222</td>\n",
       "    </tr>\n",
       "    <tr>\n",
       "      <th>2</th>\n",
       "      <td>b3c52936d4f8494dae9d1158ce76951e62413d511f5fe2...</td>\n",
       "      <td>2021-01-01T00:35:04.000-03:00</td>\n",
       "      <td>CEMG1</td>\n",
       "      <td>-33.3913</td>\n",
       "      <td>-70.6222</td>\n",
       "    </tr>\n",
       "    <tr>\n",
       "      <th>3</th>\n",
       "      <td>a4ab622fe4c0de513c389ab475cee4ad5b5d27e07e32d9...</td>\n",
       "      <td>2021-01-01T17:22:38.000-03:00</td>\n",
       "      <td>CEMG1</td>\n",
       "      <td>-33.3913</td>\n",
       "      <td>-70.6222</td>\n",
       "    </tr>\n",
       "    <tr>\n",
       "      <th>4</th>\n",
       "      <td>77d8edaa34e7ac318ef33541957e9f33826dff24217636...</td>\n",
       "      <td>2021-01-01T17:11:12.000-03:00</td>\n",
       "      <td>CEMG1</td>\n",
       "      <td>-33.3913</td>\n",
       "      <td>-70.6222</td>\n",
       "    </tr>\n",
       "    <tr>\n",
       "      <th>...</th>\n",
       "      <td>...</td>\n",
       "      <td>...</td>\n",
       "      <td>...</td>\n",
       "      <td>...</td>\n",
       "      <td>...</td>\n",
       "    </tr>\n",
       "    <tr>\n",
       "      <th>49618127</th>\n",
       "      <td>a10823620f1b7942a4e41af228a92e4931ddfee9b82674...</td>\n",
       "      <td>2021-01-01T14:48:28.000-03:00</td>\n",
       "      <td>FBCA1</td>\n",
       "      <td>-33.4378</td>\n",
       "      <td>-70.6571</td>\n",
       "    </tr>\n",
       "    <tr>\n",
       "      <th>49618128</th>\n",
       "      <td>a10823620f1b7942a4e41af228a92e4931ddfee9b82674...</td>\n",
       "      <td>2021-01-01T15:18:28.000-03:00</td>\n",
       "      <td>FBCA1</td>\n",
       "      <td>-33.4378</td>\n",
       "      <td>-70.6571</td>\n",
       "    </tr>\n",
       "    <tr>\n",
       "      <th>49618129</th>\n",
       "      <td>80dc0d3f17303fd15f4dfe12dad5a421e46de711f2470f...</td>\n",
       "      <td>2021-01-01T02:51:03.000-03:00</td>\n",
       "      <td>FBCA1</td>\n",
       "      <td>-33.4378</td>\n",
       "      <td>-70.6571</td>\n",
       "    </tr>\n",
       "    <tr>\n",
       "      <th>49618130</th>\n",
       "      <td>1875229dbfaca4d90b0c25bdd03e7854cd42912b05a760...</td>\n",
       "      <td>2021-01-01T23:35:15.000-03:00</td>\n",
       "      <td>FBCA2</td>\n",
       "      <td>-33.4378</td>\n",
       "      <td>-70.6571</td>\n",
       "    </tr>\n",
       "    <tr>\n",
       "      <th>49618131</th>\n",
       "      <td>648e869fc949f5dd70e8c444a1d116085c35ea145fe9b3...</td>\n",
       "      <td>2021-01-01T04:54:11.000-03:00</td>\n",
       "      <td>MLPIF</td>\n",
       "      <td>-33.4145</td>\n",
       "      <td>-70.5971</td>\n",
       "    </tr>\n",
       "  </tbody>\n",
       "</table>\n",
       "<p>49618132 rows × 5 columns</p>\n",
       "</div>"
      ],
      "text/plain": [
       "                                                   PHONE_ID  \\\n",
       "0         668f7c17a62c937a75f762c7198a7fc98ed4e0e0c64ce0...   \n",
       "1         780fc36e9a2bc99de12adb740e5e82b3cabba75c1ecd23...   \n",
       "2         b3c52936d4f8494dae9d1158ce76951e62413d511f5fe2...   \n",
       "3         a4ab622fe4c0de513c389ab475cee4ad5b5d27e07e32d9...   \n",
       "4         77d8edaa34e7ac318ef33541957e9f33826dff24217636...   \n",
       "...                                                     ...   \n",
       "49618127  a10823620f1b7942a4e41af228a92e4931ddfee9b82674...   \n",
       "49618128  a10823620f1b7942a4e41af228a92e4931ddfee9b82674...   \n",
       "49618129  80dc0d3f17303fd15f4dfe12dad5a421e46de711f2470f...   \n",
       "49618130  1875229dbfaca4d90b0c25bdd03e7854cd42912b05a760...   \n",
       "49618131  648e869fc949f5dd70e8c444a1d116085c35ea145fe9b3...   \n",
       "\n",
       "                              timestamp bts_id      lat      lon  \n",
       "0         2021-01-01T17:22:55.000-03:00  CEMG1 -33.3913 -70.6222  \n",
       "1         2021-01-01T17:10:19.000-03:00  CEMG1 -33.3913 -70.6222  \n",
       "2         2021-01-01T00:35:04.000-03:00  CEMG1 -33.3913 -70.6222  \n",
       "3         2021-01-01T17:22:38.000-03:00  CEMG1 -33.3913 -70.6222  \n",
       "4         2021-01-01T17:11:12.000-03:00  CEMG1 -33.3913 -70.6222  \n",
       "...                                 ...    ...      ...      ...  \n",
       "49618127  2021-01-01T14:48:28.000-03:00  FBCA1 -33.4378 -70.6571  \n",
       "49618128  2021-01-01T15:18:28.000-03:00  FBCA1 -33.4378 -70.6571  \n",
       "49618129  2021-01-01T02:51:03.000-03:00  FBCA1 -33.4378 -70.6571  \n",
       "49618130  2021-01-01T23:35:15.000-03:00  FBCA2 -33.4378 -70.6571  \n",
       "49618131  2021-01-01T04:54:11.000-03:00  MLPIF -33.4145 -70.5971  \n",
       "\n",
       "[49618132 rows x 5 columns]"
      ]
     },
     "execution_count": 3,
     "metadata": {},
     "output_type": "execute_result"
    }
   ],
   "source": [
    "data"
   ]
  },
  {
   "cell_type": "code",
   "execution_count": 4,
   "id": "1dede703",
   "metadata": {},
   "outputs": [
    {
     "data": {
      "text/plain": [
       "49618132"
      ]
     },
     "execution_count": 4,
     "metadata": {},
     "output_type": "execute_result"
    }
   ],
   "source": [
    "size = data.shape[0]\n",
    "size"
   ]
  },
  {
   "cell_type": "code",
   "execution_count": 5,
   "id": "454be72a",
   "metadata": {},
   "outputs": [
    {
     "data": {
      "text/plain": [
       "5"
      ]
     },
     "execution_count": 5,
     "metadata": {},
     "output_type": "execute_result"
    }
   ],
   "source": [
    "kf = KFold()\n",
    "kf.get_n_splits() #to get the amount of folds"
   ]
  },
  {
   "cell_type": "code",
   "execution_count": 8,
   "id": "7fca816f",
   "metadata": {},
   "outputs": [
    {
     "name": "stdout",
     "output_type": "stream",
     "text": [
      "TRAIN: [ 9923627  9923628  9923629 ... 49618129 49618130 49618131] TEST: [      0       1       2 ... 9923624 9923625 9923626]\n",
      "TRAIN: [       0        1        2 ... 49618129 49618130 49618131] TEST: [ 9923627  9923628  9923629 ... 19847251 19847252 19847253]\n",
      "TRAIN: [       0        1        2 ... 49618129 49618130 49618131] TEST: [19847254 19847255 19847256 ... 29770877 29770878 29770879]\n",
      "TRAIN: [       0        1        2 ... 49618129 49618130 49618131] TEST: [29770880 29770881 29770882 ... 39694503 39694504 39694505]\n",
      "TRAIN: [       0        1        2 ... 39694503 39694504 39694505] TEST: [39694506 39694507 39694508 ... 49618129 49618130 49618131]\n"
     ]
    }
   ],
   "source": [
    "for train_index, test_index in kf.split(data):\n",
    "    print(\"TRAIN:\", train_index, \"TEST:\", test_index)\n",
    "    data_train, data_test = data.iloc[train_index], data.iloc[test_index]"
   ]
  },
  {
   "cell_type": "code",
   "execution_count": 9,
   "id": "1d98c0cc",
   "metadata": {},
   "outputs": [
    {
     "data": {
      "text/plain": [
       "(39694506, 5)"
      ]
     },
     "execution_count": 9,
     "metadata": {},
     "output_type": "execute_result"
    }
   ],
   "source": [
    "data_train.shape"
   ]
  },
  {
   "cell_type": "code",
   "execution_count": 10,
   "id": "abd15f4d",
   "metadata": {},
   "outputs": [
    {
     "data": {
      "text/plain": [
       "(9923626, 5)"
      ]
     },
     "execution_count": 10,
     "metadata": {},
     "output_type": "execute_result"
    }
   ],
   "source": [
    "data_test.shape"
   ]
  },
  {
   "cell_type": "code",
   "execution_count": null,
   "id": "a084046e",
   "metadata": {},
   "outputs": [],
   "source": []
  }
 ],
 "metadata": {
  "kernelspec": {
   "display_name": "Python 3 (ipykernel)",
   "language": "python",
   "name": "python3"
  },
  "language_info": {
   "codemirror_mode": {
    "name": "ipython",
    "version": 3
   },
   "file_extension": ".py",
   "mimetype": "text/x-python",
   "name": "python",
   "nbconvert_exporter": "python",
   "pygments_lexer": "ipython3",
   "version": "3.8.10"
  }
 },
 "nbformat": 4,
 "nbformat_minor": 5
}
